{
 "cells": [
  {
   "cell_type": "markdown",
   "metadata": {},
   "source": [
    "# Single-View Geometry (Python)\n",
    "\n",
    "## Usage\n",
    "This code snippet provides an overall code structure and some interactive plot interfaces for the *Single-View Geometry* section of Assignment 3. In [main function](#Main-function), we outline the required functionalities step by step. Some of the functions which involves interactive plots are already provided, but [the rest](#Your-implementation) are left for you to implement.\n",
    "\n",
    "## Package installation\n",
    "- You will need [GUI backend](https://matplotlib.org/faq/usage_faq.html#what-is-a-backend) to enable interactive plots in `matplotlib`.\n",
    "- In this code, we use `tkinter` package. Installation instruction can be found [here](https://anaconda.org/anaconda/tk)."
   ]
  },
  {
   "cell_type": "markdown",
   "metadata": {},
   "source": [
    "# Common imports"
   ]
  },
  {
   "cell_type": "code",
   "execution_count": 95,
   "metadata": {},
   "outputs": [
    {
     "name": "stdout",
     "output_type": "stream",
     "text": [
      "Defaulting to user installation because normal site-packages is not writeable\n",
      "Collecting sympy\n",
      "  Downloading sympy-1.12-py3-none-any.whl (5.7 MB)\n",
      "\u001b[K     |████████████████████████████████| 5.7 MB 6.7 MB/s eta 0:00:01\n",
      "\u001b[?25hCollecting mpmath>=0.19\n",
      "  Downloading mpmath-1.3.0-py3-none-any.whl (536 kB)\n",
      "\u001b[K     |████████████████████████████████| 536 kB 80 kB/s eta 0:00:0101\n",
      "\u001b[?25hInstalling collected packages: mpmath, sympy\n",
      "Successfully installed mpmath-1.3.0 sympy-1.12\n",
      "\u001b[33mWARNING: You are using pip version 21.2.4; however, version 24.0 is available.\n",
      "You should consider upgrading via the '/Library/Developer/CommandLineTools/usr/bin/python3 -m pip install --upgrade pip' command.\u001b[0m\n"
     ]
    }
   ],
   "source": [
    "!pip3 install sympy"
   ]
  },
  {
   "cell_type": "code",
   "execution_count": 5,
   "metadata": {},
   "outputs": [],
   "source": [
    "import matplotlib.pyplot as plt\n",
    "import numpy as np\n",
    "import cv2\n",
    "import os\n",
    "\n",
    "from PIL import Image\n",
    "import pickle\n",
    "from numpy.linalg import lstsq\n",
    "import sympy as sp"
   ]
  },
  {
   "cell_type": "code",
   "execution_count": 6,
   "metadata": {},
   "outputs": [
    {
     "name": "stderr",
     "output_type": "stream",
     "text": [
      "UsageError: Line magic function `%` not found.\n"
     ]
    }
   ],
   "source": [
    "% matplotlib tk"
   ]
  },
  {
   "cell_type": "code",
   "execution_count": 7,
   "metadata": {},
   "outputs": [
    {
     "name": "stderr",
     "output_type": "stream",
     "text": [
      "2024-03-29 16:52:38.761 Python[61435:16198670] WARNING: Secure coding is not enabled for restorable state! Enable secure coding by implementing NSApplicationDelegate.applicationSupportsSecureRestorableState: and returning YES.\n"
     ]
    }
   ],
   "source": [
    "import matplotlib\n",
    "matplotlib.use('TkAgg')"
   ]
  },
  {
   "cell_type": "markdown",
   "metadata": {},
   "source": [
    "# Provided functions"
   ]
  },
  {
   "cell_type": "code",
   "execution_count": 8,
   "metadata": {},
   "outputs": [],
   "source": [
    "def get_input_lines(im, min_lines=3):\n",
    "    \"\"\"\n",
    "    Allows user to input line segments; computes centers and directions.\n",
    "    Inputs:\n",
    "        im: np.ndarray of shape (height, width, 3)\n",
    "        min_lines: minimum number of lines required\n",
    "    Returns:\n",
    "        n: number of lines from input\n",
    "        lines: np.ndarray of shape (3, n)\n",
    "            where each column denotes the parameters of the line equation\n",
    "        centers: np.ndarray of shape (3, n)\n",
    "            where each column denotes the homogeneous coordinates of the centers\n",
    "    \"\"\"\n",
    "    n = 0\n",
    "    lines = np.zeros((3, 0))\n",
    "    centers = np.zeros((3, 0))\n",
    "\n",
    "    plt.figure()\n",
    "    plt.axis('off')\n",
    "    plt.imshow(im)\n",
    "    print(f'Set at least {min_lines} lines to compute vanishing point')\n",
    "    print(f'The delete and backspace keys act like right clicking')\n",
    "    print(f'The enter key acts like middle clicking')\n",
    "    while True:\n",
    "        print('Click the two endpoints, use the right button (delete and backspace keys) to undo, and use the middle button to stop input')\n",
    "        clicked = plt.ginput(2, timeout=0, show_clicks=True)\n",
    "        if not clicked or len(clicked) < 2:\n",
    "            if n < min_lines:\n",
    "                print(f'Need at least {min_lines} lines, you have {n} now')\n",
    "                continue\n",
    "            else:\n",
    "                # Stop getting lines if number of lines is enough\n",
    "                break\n",
    "\n",
    "        # Unpack user inputs and save as homogeneous coordinates\n",
    "        pt1 = np.array([clicked[0][0], clicked[0][1], 1])\n",
    "        pt2 = np.array([clicked[1][0], clicked[1][1], 1])\n",
    "        # Get line equation using cross product\n",
    "        # Line equation: line[0] * x + line[1] * y + line[2] = 0\n",
    "        line = np.cross(pt1, pt2)\n",
    "        lines = np.append(lines, line.reshape((3, 1)), axis=1)\n",
    "        # Get center coordinate of the line segment\n",
    "        center = (pt1 + pt2) / 2\n",
    "        centers = np.append(centers, center.reshape((3, 1)), axis=1)\n",
    "\n",
    "        # Plot line segment\n",
    "        plt.plot([pt1[0], pt2[0]], [pt1[1], pt2[1]], color='b')\n",
    "\n",
    "        n += 1\n",
    "\n",
    "    return n, lines, centers"
   ]
  },
  {
   "cell_type": "code",
   "execution_count": 20,
   "metadata": {},
   "outputs": [],
   "source": [
    "def plot_lines_and_vp(ax, im, lines, vp):\n",
    "    \"\"\"\n",
    "    Plots user-input lines and the calculated vanishing point.\n",
    "    Inputs:\n",
    "        im: np.ndarray of shape (height, width, 3)\n",
    "        lines: np.ndarray of shape (3, n)\n",
    "            where each column denotes the parameters of the line equation\n",
    "        vp: np.ndarray of shape (3, )\n",
    "    \"\"\"\n",
    "    bx1 = min(1, vp[0] / vp[2]) - 10\n",
    "    bx2 = max(im.shape[1], vp[0] / vp[2]) + 10\n",
    "    by1 = min(1, vp[1] / vp[2]) - 10\n",
    "    by2 = max(im.shape[0], vp[1] / vp[2]) + 10\n",
    "    \n",
    "    ax.imshow(im)\n",
    "    for i in range(lines.shape[1]):\n",
    "        if lines[0, i] < lines[1, i]:\n",
    "            pt1 = np.cross(np.array([1, 0, -bx1]), lines[:, i])\n",
    "            pt2 = np.cross(np.array([1, 0, -bx2]), lines[:, i])\n",
    "        else:\n",
    "            pt1 = np.cross(np.array([0, 1, -by1]), lines[:, i])\n",
    "            pt2 = np.cross(np.array([0, 1, -by2]), lines[:, i])\n",
    "        pt1 = pt1 / pt1[2]\n",
    "        pt2 = pt2 / pt2[2]\n",
    "        ax.plot([pt1[0], pt2[0]], [pt1[1], pt2[1]], 'g') # line (green)\n",
    "\n",
    "    ax.plot(vp[0] / vp[2], vp[1] / vp[2], 'ro') # vanishing point (red)\n",
    "    ax.set_xlim([bx1, bx2])\n",
    "    ax.set_ylim([by2, by1])"
   ]
  },
  {
   "cell_type": "markdown",
   "metadata": {},
   "source": [
    "# Your implementation"
   ]
  },
  {
   "cell_type": "code",
   "execution_count": 10,
   "metadata": {},
   "outputs": [],
   "source": [
    "def get_vanishing_point(lines):\n",
    "    \"\"\"\n",
    "    Solves for the vanishing point using the user-input lines.\n",
    "    \"\"\"\n",
    "    # Use Singular Value Decomposition (SVD) to solve Ax = 0\n",
    "    U, S, Vt = np.linalg.svd(lines.T)\n",
    "    # The vanishing point is the right singular vector corresponding to the smallest singular value\n",
    "    vanishing_point = Vt[-1]\n",
    "    # Normalize to make the third coordinate 1\n",
    "    vanishing_point /= vanishing_point[-1]\n",
    "\n",
    "    return vanishing_point\n"
   ]
  },
  {
   "cell_type": "code",
   "execution_count": 11,
   "metadata": {},
   "outputs": [],
   "source": [
    "def get_horizon_line(vpt1, vpt2):\n",
    "    \"\"\"\n",
    "    Calculates the ground horizon line.\n",
    "    \"\"\"\n",
    "    # line = np.cross(vpt1, vpt2)\n",
    "\n",
    "    # a, b, _ = line\n",
    "    # norm = np.sqrt(a**2 + b**2)\n",
    "    # return line / norm\n",
    "\n",
    "    # average y-coordinate\n",
    "    y_avg = (vpt1[1] / vpt1[2] + vpt2[1] / vpt2[2]) / 2\n",
    "\n",
    "    # 0x + 1y - y_avg = 0\n",
    "    line = np.array([0, 1, -y_avg])\n",
    "\n",
    "    return line"
   ]
  },
  {
   "cell_type": "code",
   "execution_count": 12,
   "metadata": {},
   "outputs": [],
   "source": [
    "# def plot_horizon_line(ax, im, line):\n",
    "#     \"\"\"\n",
    "#     Plots the horizon line.\n",
    "#     \"\"\"\n",
    "#     height, width = im.shape[:2]\n",
    "#     bx1, bx2 = 0, width\n",
    "#     by1, by2 = 0, height\n",
    "\n",
    "#     # Find intersections of the horizon line with the image borders\n",
    "#     left = np.cross(np.array([1, 0, -bx1]), line)\n",
    "#     right = np.cross(np.array([1, 0, -bx2]), line)\n",
    "#     top = np.cross(np.array([0, 1, -by1]), line)\n",
    "#     bottom = np.cross(np.array([0, 1, -by2]), line)\n",
    "\n",
    "#     # Convert to inhomogeneous coordinates\n",
    "#     pts = [left / left[2], right / right[2], top / top[2], bottom / bottom[2]]\n",
    "#     # Filter points that are within the image boundary\n",
    "#     pts = [pt for pt in pts if bx1 <= pt[0] <= bx2 and by1 <= pt[1] <= by2]\n",
    "\n",
    "#     # Draw the horizon line\n",
    "#     ax.imshow(im)\n",
    "#     if len(pts) >= 2:\n",
    "#         ax.plot([pts[0][0], pts[1][0]], [pts[0][1], pts[1][1]], 'r')\n",
    "\n",
    "#     ax.set_xlim([bx1, bx2])\n",
    "#     ax.set_ylim([by2, by1])\n",
    "\n",
    "def plot_horizon_line(ax, im, line):\n",
    "    \"\"\"\n",
    "    Plots the horizon line.\n",
    "    \"\"\"\n",
    "    height, width = im.shape[:2]\n",
    "    bx1, bx2 = 0, width\n",
    "\n",
    "    # Since the line is horizontal, y value is constant and given by -c/b (line[2]/line[1])\n",
    "    y_val = -line[2] / line[1]\n",
    "\n",
    "    # Draw the horizon line\n",
    "    ax.imshow(im)\n",
    "    ax.plot([bx1, bx2], [y_val, y_val], 'r')  # Draw line across the image width at y_val height\n",
    "\n",
    "    ax.set_xlim([bx1, bx2])\n",
    "    ax.set_ylim([height, 0])  # Invert y-axis to match image coordinates"
   ]
  },
  {
   "cell_type": "code",
   "execution_count": 40,
   "metadata": {},
   "outputs": [],
   "source": [
    "# def get_camera_parameters(vpts):\n",
    "#     \"\"\"\n",
    "#     Computes the camera parameters. Hint: The SymPy package is suitable for this.\n",
    "#     \"\"\"\n",
    "#     vpts = vpts / vpts[-1, :]\n",
    "#     vpt1, vpt2, vpt3 = [sp.Matrix(vpt) for vpt in vpts.T]\n",
    "\n",
    "#     px, py, k = sp.symbols('px py k')\n",
    "\n",
    "#     A = sp.Matrix([[vpt1 + vpt2, vpt1 + vpt3, vpt2 + vpt3]])\n",
    "#     b = sp.Matrix([vpt1.dot(vpt2), vpt1.dot(vpt3), vpt2.dot(vpt3)]) - sp.ones(3, 1)\n",
    "\n",
    "#     solution = sp.solve(A.T * sp.Matrix([px, py, k]) - b, [px, py, k])\n",
    "\n",
    "#     f = -2 * solution[k] - solution[px]**2 - solution[py]**2\n",
    "\n",
    "#     K = sp.Matrix([[f, 0, solution[px]], [0, f, solution[py]], [0, 0, 1]])\n",
    "\n",
    "#     return solution[k], solution[px], solution[py], np.array(K).astype(np.float32)\n",
    "\n",
    "def get_camera_parameters(vpts):\n",
    "    \"\"\"\n",
    "    Computes the camera parameters. Hint: The SymPy package is suitable for this.\n",
    "    \"\"\"\n",
    "    vpts = vpts / vpts[-1, :]\n",
    "    vpt1, vpt2, vpt3 = [sp.Matrix(vpt) for vpt in vpts.T]\n",
    "\n",
    "    px, py, f = sp.symbols('px py f')\n",
    "    x1, y1 = vpt1[0], vpt1[1]\n",
    "    x2, y2 = vpt2[0], vpt2[1]\n",
    "    x3, y3 = vpt3[0], vpt3[1]\n",
    "\n",
    "    # Setup the equations based on the geometric constraints\n",
    "    eq1 = sp.Eq((x1 - px) * (x2 - px) + (y1 - py) * (y2 - py) +f**2, 0)\n",
    "    eq2 = sp.Eq((x1 - px) * (x3 - px) + (y1 - py) * (y3 - py) + f**2, 0)\n",
    "    eq3 = sp.Eq((x3 - px) * (x2 - px) + (y3 - py) * (y2 - py) + f**2, 0)\n",
    "\n",
    "    # Solve the system of equations\n",
    "    solution = sp.solve((eq1, eq2, eq3), (px, py, f), dict=True)[1]\n",
    "\n",
    "    K = sp.Matrix([[solution[f], 0, solution[px]], [0, solution[f], solution[py]], [0, 0, 1]])\n",
    "\n",
    "    return solution[f], solution[px], solution[py], np.array(K).astype(np.float32)"
   ]
  },
  {
   "cell_type": "code",
   "execution_count": 14,
   "metadata": {},
   "outputs": [],
   "source": [
    "def get_rotation_matrix(vpts, K):\n",
    "    \"\"\"\n",
    "    Computes the rotation matrix using the camera parameters.\n",
    "    \"\"\"\n",
    "    vpts = vpts / vpts[-1, :]\n",
    "    K_inv = np.linalg.inv(K)\n",
    "    R = np.zeros((3, 3))\n",
    "    for i in range(len(vpts)):\n",
    "        v_i = sp.Matrix(vpts[:, i])\n",
    "        r_i = K_inv * v_i\n",
    "\n",
    "        r_i = np.array(r_i).astype(np.float32)\n",
    "        r_i = r_i.flatten()\n",
    "        r_i = r_i / np.linalg.norm(r_i)\n",
    "\n",
    "        R[:, i] = r_i\n",
    "        print(f\"r_{i}: {r_i}\")\n",
    "        \n",
    "    return R"
   ]
  },
  {
   "cell_type": "code",
   "execution_count": 1,
   "metadata": {},
   "outputs": [],
   "source": [
    "# def get_homography(...):\n",
    "#     \"\"\"\n",
    "#     Compute homography for transforming the image into fronto-parallel \n",
    "#     views along the different axes.\n",
    "#     \"\"\"\n",
    "#     # <YOUR CODE>\n",
    "#     pass"
   ]
  },
  {
   "cell_type": "markdown",
   "metadata": {},
   "source": [
    "# Main function"
   ]
  },
  {
   "cell_type": "code",
   "execution_count": 18,
   "metadata": {},
   "outputs": [],
   "source": [
    "im = np.asarray(Image.open('./city.jpg'))\n",
    "\n",
    "# Also loads the vanishing line data if it exists in data.pickle file. \n",
    "# data.pickle is written using snippet in the next cell.\n",
    "if os.path.exists('./data.pickle'):\n",
    "    with open('./data.pickle', 'rb') as f:\n",
    "        all_n, all_lines, all_centers = pickle.load(f)\n",
    "    num_vpts = 3"
   ]
  },
  {
   "cell_type": "code",
   "execution_count": 74,
   "metadata": {},
   "outputs": [],
   "source": [
    "# # Click and save the line data for vanishing points. This snippet \n",
    "# # opens up an interface for selecting points and writes them to \n",
    "# # data.pickle file. The file is over-written.\n",
    "\n",
    "# num_vpts = 3\n",
    "# all_n, all_lines, all_centers = [], [], []\n",
    "\n",
    "# for i in range(num_vpts):\n",
    "#     print(f'Getting vanishing point {i}')\n",
    "    \n",
    "#     # Get at least three lines from user input\n",
    "#     n_i, lines_i, centers_i = get_input_lines(im)\n",
    "#     all_n.append(n_i)\n",
    "#     all_lines.append(lines_i)\n",
    "#     all_centers.append(centers_i)\n",
    "\n",
    "# with open('data.pickle', 'wb') as f:\n",
    "#     pickle.dump([all_n, all_lines, all_centers], f)"
   ]
  },
  {
   "cell_type": "code",
   "execution_count": 41,
   "metadata": {},
   "outputs": [
    {
     "name": "stdout",
     "output_type": "stream",
     "text": [
      "[-218.12925725  141.33875189    1.        ]\n",
      "[914.30303401 119.05724645   1.        ]\n",
      "[4.21082572e+02 3.53668775e+03 1.00000000e+00]\n"
     ]
    }
   ],
   "source": [
    "# Part (1)\n",
    "# Computing vanishing points for each of the directions\n",
    "vpts = np.zeros((3, num_vpts))\n",
    "\n",
    "for i in range(num_vpts):\n",
    "    fig = plt.figure(); ax = fig.gca()\n",
    "    \n",
    "    vpts[:, i] = get_vanishing_point(all_lines[i])\n",
    "    print(vpts[:, i])\n",
    "    \n",
    "    # Plot the lines and the vanishing point\n",
    "    plot_lines_and_vp(ax, im, all_lines[i], vpts[:, i])\n",
    "    fig.savefig('Q3_vp{:d}.pdf'.format(i), bbox_inches='tight')"
   ]
  },
  {
   "cell_type": "code",
   "execution_count": 42,
   "metadata": {},
   "outputs": [
    {
     "name": "stdout",
     "output_type": "stream",
     "text": [
      "horizon_line parameter: 0.0000x + 1.0000y + -130.1980 = 0\n"
     ]
    }
   ],
   "source": [
    "# Part (2) Computing and plotting the horizon\n",
    "# method 1: draw a line that cross the two vanishing points\n",
    "# method 2: averaging y coordinates of the two vanishing points, then draw a line with slope = 0\n",
    "horizon_line = get_horizon_line(vpts[:, 0], vpts[:, 1])\n",
    "print(f\"horizon_line parameter: {horizon_line[0]:.4f}x + {horizon_line[1]:.4f}y + {horizon_line[2]:.4f} = 0\")\n",
    "\n",
    "fig = plt.figure(); ax = fig.gca()\n",
    "plot_horizon_line(ax, im, horizon_line)\n",
    "fig.savefig('Q3_horizon.pdf', bbox_inches='tight')"
   ]
  },
  {
   "cell_type": "code",
   "execution_count": 43,
   "metadata": {},
   "outputs": [
    {
     "name": "stdout",
     "output_type": "stream",
     "text": [
      "355.906379457695 224.181564060017 558.418109511998 [[558.4181    0.      355.90637]\n",
      " [  0.      558.4181  224.18156]\n",
      " [  0.        0.        1.     ]]\n"
     ]
    }
   ],
   "source": [
    "# Part (3) Computing Camera Parameters\n",
    "# <YOUR CODE> Solve for the camera parameters (f, u, v)\n",
    "f, u, v, K = get_camera_parameters(vpts)\n",
    "\n",
    "print(u, v, f, K)"
   ]
  },
  {
   "cell_type": "code",
   "execution_count": 44,
   "metadata": {},
   "outputs": [
    {
     "name": "stdout",
     "output_type": "stream",
     "text": [
      "r_0: [-0.71298563 -0.10289558  0.6935877 ]\n",
      "r_1: [ 0.7009102  -0.13195407  0.70093715]\n",
      "r_2: [0.01939838 0.9859009  0.16620192]\n",
      "[[-0.71298563  0.70091021  0.01939838]\n",
      " [-0.10289558 -0.13195407  0.98590088]\n",
      " [ 0.69358772  0.70093715  0.16620192]]\n"
     ]
    }
   ],
   "source": [
    "# Part (4) Computing Rotation Matrices\n",
    "# <YOUR CODE> Solve for the rotation matrix\n",
    "R = get_rotation_matrix(vpts, K)\n",
    "print(R)"
   ]
  },
  {
   "cell_type": "code",
   "execution_count": null,
   "metadata": {},
   "outputs": [],
   "source": []
  }
 ],
 "metadata": {
  "kernelspec": {
   "display_name": "Python 3 (ipykernel)",
   "language": "python",
   "name": "python3"
  },
  "language_info": {
   "codemirror_mode": {
    "name": "ipython",
    "version": 3
   },
   "file_extension": ".py",
   "mimetype": "text/x-python",
   "name": "python",
   "nbconvert_exporter": "python",
   "pygments_lexer": "ipython3",
   "version": "3.9.6"
  }
 },
 "nbformat": 4,
 "nbformat_minor": 4
}
